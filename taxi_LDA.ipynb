{
 "cells": [
  {
   "cell_type": "markdown",
   "metadata": {},
   "source": [
    "# Latent Dirichlet Allocation with taxi trips\n",
    "\n",
    "This notebook will fit an LDA model to taxi trip data in order to classify different types of trips. \n",
    "It will also predict the probability that each type of trip will occur at at given daty and time. \n",
    "\n",
    "Steps: \n",
    "- prepare data (initial data cleaning and preparation done in the other notebook in QGIS.\n",
    "- prepare the \"dictionary\" (define trips) and \"corpora\" (the set of trips in a city)\n",
    "- hold out testing data\n",
    "- fit model, tune parameters\n",
    "- visualize results\n",
    "\n",
    "\n",
    "\n",
    "\n",
    "TODO: timestamps got messed up when tried to update in Feb 2016. Have to use the new files with correct timestamps. "
   ]
  },
  {
   "cell_type": "code",
   "execution_count": 2,
   "metadata": {
    "collapsed": false
   },
   "outputs": [],
   "source": [
    "\n",
    "import pandas as pd\n",
    "import numpy as np\n",
    "import matplotlib.pyplot as plt\n",
    "%matplotlib inline\n",
    "\n",
    "import datetime\n",
    "import logging\n",
    "from gensim import corpora, models, similarities"
   ]
  },
  {
   "cell_type": "markdown",
   "metadata": {},
   "source": [
    "# Prepare Data\n",
    "\n",
    "\n",
    "Before this, I created a grid with 1000m cells, then used PostGIS to spatially join the trip origiin (o) and destination (d) with grid cell IDs. "
   ]
  },
  {
   "cell_type": "code",
   "execution_count": 37,
   "metadata": {
    "collapsed": false
   },
   "outputs": [],
   "source": [
    " # load csv files with trips already matched to o and d cells\n",
    "\n",
    "filename= 'working_data/sf_trips.csv'\n",
    "sf_data = pd.read_csv(filename, dtype={'taz_orig': str, 'taz_dest':str}, parse_dates= ['startdate','enddate'])\n",
    "sf_data.head\n",
    "# TODO: Somehow the dates got messed up in the update. Need to go back and store datetimes as strings. "
   ]
  },
  {
   "cell_type": "code",
   "execution_count": 46,
   "metadata": {
    "collapsed": false
   },
   "outputs": [
    {
     "name": "stdout",
     "output_type": "stream",
     "text": [
      "(702032, 17)\n",
      "    tripid      d_lat       d_lng  dist             enddate  endday  endhour  \\\n",
      "10      10  37.799390 -122.424988   2.1 2013-10-01 00:12:00       1        0   \n",
      "11      11  37.764913 -122.423213   1.9 2013-10-01 00:16:00       1        0   \n",
      "12      12  37.783487 -122.415695   0.9 2013-10-01 00:19:00       1        0   \n",
      "13      13  37.791582 -122.420673  13.7 2013-10-01 00:17:00       1        0   \n",
      "14      14  37.783755 -122.415928   1.0 2013-10-01 00:18:00       1        0   \n",
      "15      15  37.781320 -122.432455   1.8 2013-10-01 00:20:00       1        0   \n",
      "16      16  37.782773 -122.444800   3.1 2013-10-01 00:19:00       1        0   \n",
      "17      17  37.789352 -122.412102   0.5 2013-10-01 00:21:00       1        0   \n",
      "18      18  37.785207 -122.418130   0.6 2013-10-01 00:21:00       1        0   \n",
      "19      19  37.760287 -122.419055   1.8 2013-10-01 00:18:00       1        0   \n",
      "\n",
      "    month      o_lat       o_lng           startdate  startday  starthour  \\\n",
      "10     10  37.794930 -122.399272 2013-10-01 00:05:00         1          0   \n",
      "11     10  37.785188 -122.418943 2013-10-01 00:08:00         1          0   \n",
      "12     10  37.785533 -122.429962 2013-10-01 00:14:00         1          0   \n",
      "13     10  37.617600 -122.386882 2013-10-01 00:01:00         1          0   \n",
      "14     10  37.789260 -122.402327 2013-10-01 00:14:00         1          0   \n",
      "15     10  37.787782 -122.403550 2013-10-01 00:13:00         1          0   \n",
      "16     10  37.760158 -122.419130 2013-10-01 00:10:00         1          0   \n",
      "17     10  37.784595 -122.408487 2013-10-01 00:18:00         1          0   \n",
      "18     10  37.785207 -122.418130 2013-10-01 00:21:00         1          0   \n",
      "19     10  37.752507 -122.413045 2013-10-01 00:14:00         1          0   \n",
      "\n",
      "    trip_time  year       taz_orig       taz_dest  \n",
      "10        420  2013  0607500104291            NaN  \n",
      "11        480  2013  0607500104228  0607500104460  \n",
      "12        300  2013  0607500104370  0607500104230  \n",
      "13        960  2013  0608100102169            NaN  \n",
      "14        240  2013  0607500104294  0607500104230  \n",
      "15        420  2013  0607500104294  0607500104404  \n",
      "16        540  2013  0607500103909            NaN  \n",
      "17        180  2013  0607500104253  0607500104315  \n",
      "18          0  2013  0607500104228  0607500104228  \n",
      "19        240  2013  0607500103983  0607500103911  \n",
      "116643\n",
      "147050\n"
     ]
    },
    {
     "data": {
      "text/plain": [
       "0.5411790345739226"
      ]
     },
     "execution_count": 46,
     "metadata": {},
     "output_type": "execute_result"
    }
   ],
   "source": [
    "# Look at missing data. I think the taz's are missing because they were outside the TAZ boundaries. \n",
    "# TODO: Check if this is actually the case. \n",
    "print(len(sf_data[sf_data.taz_orig.isnull()]))\n",
    "print(len(sf_data[sf_data.taz_dest.isnull()]))\n",
    "\n",
    "# Drop NA's. Caution - a lot will be dropped. \n",
    "sf_data_dropped = sf_data.dropna(how='any')\n",
    "len(sf_data_dropped)/len(sf_data)\n"
   ]
  },
  {
   "cell_type": "code",
   "execution_count": 13,
   "metadata": {
    "collapsed": false
   },
   "outputs": [
    {
     "name": "stdout",
     "output_type": "stream",
     "text": [
      "1481756\n"
     ]
    },
    {
     "data": {
      "text/html": [
       "<div>\n",
       "<table border=\"1\" class=\"dataframe\">\n",
       "  <thead>\n",
       "    <tr style=\"text-align: right;\">\n",
       "      <th></th>\n",
       "      <th>tripid</th>\n",
       "      <th>trip_time</th>\n",
       "      <th>dist</th>\n",
       "      <th>o_lng</th>\n",
       "      <th>o_lat</th>\n",
       "      <th>d_lng</th>\n",
       "      <th>d_lat</th>\n",
       "      <th>year</th>\n",
       "      <th>month</th>\n",
       "      <th>startday</th>\n",
       "      <th>starthour</th>\n",
       "      <th>endday</th>\n",
       "      <th>endhour</th>\n",
       "      <th>taz_orig</th>\n",
       "      <th>taz_dest</th>\n",
       "    </tr>\n",
       "  </thead>\n",
       "  <tbody>\n",
       "    <tr>\n",
       "      <th>0</th>\n",
       "      <td>3059374</td>\n",
       "      <td>1084</td>\n",
       "      <td>4.60</td>\n",
       "      <td>-73.923874</td>\n",
       "      <td>40.770187</td>\n",
       "      <td>-73.952225</td>\n",
       "      <td>40.772835</td>\n",
       "      <td>2013</td>\n",
       "      <td>10</td>\n",
       "      <td>0</td>\n",
       "      <td>7</td>\n",
       "      <td>0</td>\n",
       "      <td>7</td>\n",
       "      <td>NaN</td>\n",
       "      <td>3606100013600</td>\n",
       "    </tr>\n",
       "    <tr>\n",
       "      <th>1</th>\n",
       "      <td>1480323</td>\n",
       "      <td>1118</td>\n",
       "      <td>11.20</td>\n",
       "      <td>-73.970627</td>\n",
       "      <td>40.754700</td>\n",
       "      <td>-73.865089</td>\n",
       "      <td>40.770554</td>\n",
       "      <td>2013</td>\n",
       "      <td>10</td>\n",
       "      <td>0</td>\n",
       "      <td>13</td>\n",
       "      <td>0</td>\n",
       "      <td>13</td>\n",
       "      <td>3606100009001</td>\n",
       "      <td>NaN</td>\n",
       "    </tr>\n",
       "    <tr>\n",
       "      <th>2</th>\n",
       "      <td>3914387</td>\n",
       "      <td>240</td>\n",
       "      <td>1.10</td>\n",
       "      <td>-74.009956</td>\n",
       "      <td>40.735149</td>\n",
       "      <td>-73.999443</td>\n",
       "      <td>40.743870</td>\n",
       "      <td>2013</td>\n",
       "      <td>10</td>\n",
       "      <td>1</td>\n",
       "      <td>22</td>\n",
       "      <td>1</td>\n",
       "      <td>22</td>\n",
       "      <td>3606100007500</td>\n",
       "      <td>3606100008700</td>\n",
       "    </tr>\n",
       "    <tr>\n",
       "      <th>3</th>\n",
       "      <td>13323926</td>\n",
       "      <td>420</td>\n",
       "      <td>0.75</td>\n",
       "      <td>-73.972542</td>\n",
       "      <td>40.764717</td>\n",
       "      <td>-73.971870</td>\n",
       "      <td>40.757217</td>\n",
       "      <td>2013</td>\n",
       "      <td>10</td>\n",
       "      <td>2</td>\n",
       "      <td>22</td>\n",
       "      <td>2</td>\n",
       "      <td>22</td>\n",
       "      <td>3606100011401</td>\n",
       "      <td>3606100010000</td>\n",
       "    </tr>\n",
       "    <tr>\n",
       "      <th>4</th>\n",
       "      <td>11665692</td>\n",
       "      <td>540</td>\n",
       "      <td>1.38</td>\n",
       "      <td>-73.962212</td>\n",
       "      <td>40.755596</td>\n",
       "      <td>-73.949509</td>\n",
       "      <td>40.772549</td>\n",
       "      <td>2013</td>\n",
       "      <td>10</td>\n",
       "      <td>3</td>\n",
       "      <td>10</td>\n",
       "      <td>3</td>\n",
       "      <td>10</td>\n",
       "      <td>3606100010601</td>\n",
       "      <td>3606100013600</td>\n",
       "    </tr>\n",
       "  </tbody>\n",
       "</table>\n",
       "</div>"
      ],
      "text/plain": [
       "     tripid  trip_time   dist      o_lng      o_lat      d_lng      d_lat  \\\n",
       "0   3059374       1084   4.60 -73.923874  40.770187 -73.952225  40.772835   \n",
       "1   1480323       1118  11.20 -73.970627  40.754700 -73.865089  40.770554   \n",
       "2   3914387        240   1.10 -74.009956  40.735149 -73.999443  40.743870   \n",
       "3  13323926        420   0.75 -73.972542  40.764717 -73.971870  40.757217   \n",
       "4  11665692        540   1.38 -73.962212  40.755596 -73.949509  40.772549   \n",
       "\n",
       "   year  month  startday  starthour  endday  endhour       taz_orig  \\\n",
       "0  2013     10         0          7       0        7            NaN   \n",
       "1  2013     10         0         13       0       13  3606100009001   \n",
       "2  2013     10         1         22       1       22  3606100007500   \n",
       "3  2013     10         2         22       2       22  3606100011401   \n",
       "4  2013     10         3         10       3       10  3606100010601   \n",
       "\n",
       "        taz_dest  \n",
       "0  3606100013600  \n",
       "1            NaN  \n",
       "2  3606100008700  \n",
       "3  3606100010000  \n",
       "4  3606100013600  "
      ]
     },
     "execution_count": 13,
     "metadata": {},
     "output_type": "execute_result"
    }
   ],
   "source": [
    "# Read NYC data\n",
    "filename= 'working_data/nyc_trips.csv'\n",
    "nyc_data = pd.read_csv(filename,dtype={'taz_orig': str, 'taz_dest': str}, usecols = [0,3,4,5,6,7,8,9,10,11,12,13,14,15,16])\n",
    "print(len(nyc_data))\n",
    "nyc_data.head()"
   ]
  },
  {
   "cell_type": "code",
   "execution_count": 39,
   "metadata": {
    "collapsed": false
   },
   "outputs": [
    {
     "name": "stderr",
     "output_type": "stream",
     "text": [
      "//anaconda/lib/python3.5/site-packages/ipykernel/__main__.py:8: SettingWithCopyWarning: \n",
      "A value is trying to be set on a copy of a slice from a DataFrame.\n",
      "Try using .loc[row_indexer,col_indexer] = value instead\n",
      "\n",
      "See the caveats in the documentation: http://pandas.pydata.org/pandas-docs/stable/indexing.html#indexing-view-versus-copy\n"
     ]
    },
    {
     "data": {
      "text/html": [
       "<div>\n",
       "<table border=\"1\" class=\"dataframe\">\n",
       "  <thead>\n",
       "    <tr style=\"text-align: right;\">\n",
       "      <th></th>\n",
       "      <th>tripid</th>\n",
       "      <th>d_lat</th>\n",
       "      <th>d_lng</th>\n",
       "      <th>dist</th>\n",
       "      <th>enddate</th>\n",
       "      <th>endday</th>\n",
       "      <th>endhour</th>\n",
       "      <th>month</th>\n",
       "      <th>o_lat</th>\n",
       "      <th>o_lng</th>\n",
       "      <th>startdate</th>\n",
       "      <th>startday</th>\n",
       "      <th>starthour</th>\n",
       "      <th>trip_time</th>\n",
       "      <th>year</th>\n",
       "      <th>taz_orig</th>\n",
       "      <th>taz_dest</th>\n",
       "      <th>date</th>\n",
       "    </tr>\n",
       "  </thead>\n",
       "  <tbody>\n",
       "    <tr>\n",
       "      <th>0</th>\n",
       "      <td>0</td>\n",
       "      <td>37.805305</td>\n",
       "      <td>-122.472953</td>\n",
       "      <td>5.0</td>\n",
       "      <td>2013-10-01 00:04:00</td>\n",
       "      <td>1</td>\n",
       "      <td>0</td>\n",
       "      <td>10</td>\n",
       "      <td>37.804945</td>\n",
       "      <td>-122.472388</td>\n",
       "      <td>2013-10-01 00:03:00</td>\n",
       "      <td>1</td>\n",
       "      <td>0</td>\n",
       "      <td>60</td>\n",
       "      <td>2013</td>\n",
       "      <td>0607500104176</td>\n",
       "      <td>0607500104176</td>\n",
       "      <td>2013-10-01</td>\n",
       "    </tr>\n",
       "    <tr>\n",
       "      <th>1</th>\n",
       "      <td>1</td>\n",
       "      <td>37.791295</td>\n",
       "      <td>-122.414613</td>\n",
       "      <td>0.8</td>\n",
       "      <td>2013-10-01 00:09:00</td>\n",
       "      <td>1</td>\n",
       "      <td>0</td>\n",
       "      <td>10</td>\n",
       "      <td>37.792920</td>\n",
       "      <td>-122.400507</td>\n",
       "      <td>2013-10-01 00:05:00</td>\n",
       "      <td>1</td>\n",
       "      <td>0</td>\n",
       "      <td>240</td>\n",
       "      <td>2013</td>\n",
       "      <td>0607500104293</td>\n",
       "      <td>0607500103919</td>\n",
       "      <td>2013-10-01</td>\n",
       "    </tr>\n",
       "    <tr>\n",
       "      <th>2</th>\n",
       "      <td>2</td>\n",
       "      <td>37.555052</td>\n",
       "      <td>-122.324047</td>\n",
       "      <td>7.5</td>\n",
       "      <td>2013-10-01 00:09:00</td>\n",
       "      <td>1</td>\n",
       "      <td>0</td>\n",
       "      <td>10</td>\n",
       "      <td>37.616057</td>\n",
       "      <td>-122.391168</td>\n",
       "      <td>2013-10-01 00:00:00</td>\n",
       "      <td>1</td>\n",
       "      <td>0</td>\n",
       "      <td>540</td>\n",
       "      <td>2013</td>\n",
       "      <td>0608100102169</td>\n",
       "      <td>0608100102066</td>\n",
       "      <td>2013-10-01</td>\n",
       "    </tr>\n",
       "    <tr>\n",
       "      <th>4</th>\n",
       "      <td>4</td>\n",
       "      <td>37.742243</td>\n",
       "      <td>-122.465177</td>\n",
       "      <td>1.9</td>\n",
       "      <td>2013-10-01 00:10:00</td>\n",
       "      <td>1</td>\n",
       "      <td>0</td>\n",
       "      <td>10</td>\n",
       "      <td>37.765732</td>\n",
       "      <td>-122.466452</td>\n",
       "      <td>2013-10-01 00:05:00</td>\n",
       "      <td>1</td>\n",
       "      <td>0</td>\n",
       "      <td>300</td>\n",
       "      <td>2013</td>\n",
       "      <td>0607500104167</td>\n",
       "      <td>0607500103992</td>\n",
       "      <td>2013-10-01</td>\n",
       "    </tr>\n",
       "    <tr>\n",
       "      <th>5</th>\n",
       "      <td>5</td>\n",
       "      <td>37.783253</td>\n",
       "      <td>-122.432853</td>\n",
       "      <td>1.7</td>\n",
       "      <td>2013-10-01 00:12:00</td>\n",
       "      <td>1</td>\n",
       "      <td>0</td>\n",
       "      <td>10</td>\n",
       "      <td>37.769750</td>\n",
       "      <td>-122.448700</td>\n",
       "      <td>2013-10-01 00:05:00</td>\n",
       "      <td>1</td>\n",
       "      <td>0</td>\n",
       "      <td>420</td>\n",
       "      <td>2013</td>\n",
       "      <td>0607500104418</td>\n",
       "      <td>0607500104402</td>\n",
       "      <td>2013-10-01</td>\n",
       "    </tr>\n",
       "  </tbody>\n",
       "</table>\n",
       "</div>"
      ],
      "text/plain": [
       "   tripid      d_lat       d_lng  dist             enddate  endday  endhour  \\\n",
       "0       0  37.805305 -122.472953   5.0 2013-10-01 00:04:00       1        0   \n",
       "1       1  37.791295 -122.414613   0.8 2013-10-01 00:09:00       1        0   \n",
       "2       2  37.555052 -122.324047   7.5 2013-10-01 00:09:00       1        0   \n",
       "4       4  37.742243 -122.465177   1.9 2013-10-01 00:10:00       1        0   \n",
       "5       5  37.783253 -122.432853   1.7 2013-10-01 00:12:00       1        0   \n",
       "\n",
       "   month      o_lat       o_lng           startdate  startday  starthour  \\\n",
       "0     10  37.804945 -122.472388 2013-10-01 00:03:00         1          0   \n",
       "1     10  37.792920 -122.400507 2013-10-01 00:05:00         1          0   \n",
       "2     10  37.616057 -122.391168 2013-10-01 00:00:00         1          0   \n",
       "4     10  37.765732 -122.466452 2013-10-01 00:05:00         1          0   \n",
       "5     10  37.769750 -122.448700 2013-10-01 00:05:00         1          0   \n",
       "\n",
       "   trip_time  year       taz_orig       taz_dest        date  \n",
       "0         60  2013  0607500104176  0607500104176  2013-10-01  \n",
       "1        240  2013  0607500104293  0607500103919  2013-10-01  \n",
       "2        540  2013  0608100102169  0608100102066  2013-10-01  \n",
       "4        300  2013  0607500104167  0607500103992  2013-10-01  \n",
       "5        420  2013  0607500104418  0607500104402  2013-10-01  "
      ]
     },
     "execution_count": 39,
     "metadata": {},
     "output_type": "execute_result"
    }
   ],
   "source": [
    "# add date column so can group by date. \n",
    "\n",
    "def make_date_column(df):\n",
    "    datelist = []\n",
    "    for i, row in df.iterrows():\n",
    "        date = row['startdate'].date()\n",
    "        datelist.append(date)\n",
    "    df['date'] = datelist\n",
    "    return df\n",
    "\n",
    "nyc_data = make_date_column(nyc_data)\n",
    "sf_data = make_date_column(sf_data_dropped)\n",
    "sf_data.head()\n",
    "        "
   ]
  },
  {
   "cell_type": "code",
   "execution_count": 42,
   "metadata": {
    "collapsed": false
   },
   "outputs": [
    {
     "name": "stdout",
     "output_type": "stream",
     "text": [
      "123\n"
     ]
    },
    {
     "data": {
      "text/plain": [
       "Timestamp('2012-10-01 00:00:00')"
      ]
     },
     "execution_count": 42,
     "metadata": {},
     "output_type": "execute_result"
    }
   ],
   "source": [
    "# how many days are there? \n",
    "print(len(sf_data.date.unique()))\n",
    "# when do they start?\n",
    "sf_data.startdate.min()"
   ]
  },
  {
   "cell_type": "code",
   "execution_count": 342,
   "metadata": {
    "collapsed": false
   },
   "outputs": [
    {
     "name": "stderr",
     "output_type": "stream",
     "text": [
      "/Users/lrayle/anaconda/lib/python2.7/site-packages/pandas/io/pytables.py:2453: PerformanceWarning: \n",
      "your performance may suffer as PyTables will pickle object types that it cannot\n",
      "map directly to c-types [inferred_type->date,key->block3_values] [items->['date']]\n",
      "\n",
      "  warnings.warn(ws, PerformanceWarning)\n"
     ]
    }
   ],
   "source": [
    "#nyc_data.to_hdf('taxi_nyc/nyc_data.all.h5','df')\n",
    "#sf_data.to_hdf('taxi_sf/sf_data.all.h5','df')"
   ]
  },
  {
   "cell_type": "markdown",
   "metadata": {},
   "source": [
    "# Prepare Dictionary and Corpora"
   ]
  },
  {
   "cell_type": "code",
   "execution_count": 116,
   "metadata": {
    "collapsed": false
   },
   "outputs": [],
   "source": [
    "# make a document for each hour in entire list\n",
    "# Gensim dictionary takes as input a list of arrays of strings\n",
    "\n",
    "def make_docs_by_hour(df):\n",
    "    doc_list = [] # there will be a doc for each hour observed in dataset\n",
    "    doc_index = [] # just to keep track of the hours\n",
    "    for date in df.date.unique():\n",
    "        for hour in range(24):\n",
    "            doc = [] # each doc is a list of od pairs\n",
    "            for i, row in df[(df.date == date)& (df.starthour == hour)].iterrows():\n",
    "\n",
    "                pair = str(row['o_grid'])+','+str(row['d_grid'])\n",
    "                doc.append(pair)\n",
    "            doc_list.append(doc)\n",
    "            doc_index.append([date,hour])\n",
    "            \n",
    "    return doc_list, doc_index\n",
    "\n",
    "sf_docs_temp, sf_ind_temp = make_docs_by_hour(sf_data)\n",
    "nyc_docs_temp, nyc_ind = make_docs_by_hour(nyc_data)\n",
    "\n",
    "df_nyc_ind = pd.DataFrame(nyc_ind, columns = ['date','hour'])\n",
    "df_sf_ind = pd.DataFrame(sf_ind_temp, columns = ['date','hour'])\n",
    "\n",
    "# the 'doc_id' column preserves the inex of the documents. E.g., the index of \n",
    "# the sf_docs_temp matches the doc_id in df_sf_ind\n",
    "df_nyc_ind['doc_id'] = df_nyc_ind.index\n",
    "df_sf_ind['doc_id'] = df_sf_ind.index\n",
    "df_sf_ind.head()\n",
    "\n",
    "# this is important because the dates are out of order and we'll later have to order them. "
   ]
  },
  {
   "cell_type": "code",
   "execution_count": null,
   "metadata": {
    "collapsed": false
   },
   "outputs": [],
   "source": [
    "#for i, doc in enumerate(sf_docs_temp):\n",
    "    #if len(doc)<10:\n",
    "     #   print df_sf_ind.date[i]\n",
    "# aha! for some reason the last day of each month is missing data. That's ok, I think, just don't try to plot it.\n",
    "\n",
    "def make_tottrips_list(docs):\n",
    "    tt_list = []\n",
    "    for doc in docs: \n",
    "        tt_list.append(len(doc))\n",
    "    return(tt_list)\n",
    "\n",
    "\n",
    "df_nyc_ind['tot_trips'] = make_tottips_list(nyc_docs_temp)\n",
    "df_nyc_ind['tot_trips'] = make_tottips_list(sf_docs_temp)"
   ]
  },
  {
   "cell_type": "markdown",
   "metadata": {},
   "source": [
    "## Hold out test data"
   ]
  },
  {
   "cell_type": "code",
   "execution_count": 165,
   "metadata": {
    "collapsed": false
   },
   "outputs": [],
   "source": [
    "\n",
    "# hold out some documents for testing. \n",
    "\n",
    "# for NY, choose a few representative days Tues Oct 8, Wed Oct 16, Thu Oct 24 and Sat Oct 26\n",
    "test_date_list = [datetime.date(2013, 10, 8), datetime.date(2013, 10, 16),datetime.date(2013, 10, 24),datetime.date(2013, 10, 26) ]\n",
    "nyc_test_ids = df_nyc_ind[df_nyc_ind['date'].isin(test_date_list) ].index.values\n",
    "nyc_train_ids = df_nyc_ind[~df_nyc_ind['date'].isin(test_date_list) ].index.values\n",
    "\n",
    "\n",
    "# for SF, choose seven representative days Tues Oct 8, Wed Oct 16, Thu Oct 24 and Sat Oct 26\n",
    "test_date_list = [datetime.date(2013, 10, 8), datetime.date(2013, 10, 16),datetime.date(2013, 10, 24),datetime.date(2013, 10, 26), datetime.date(2013, 8, 11), datetime.date(2013, 8, 12),datetime.date(2013, 8, 28) ]\n",
    "sf_test_ids = df_sf_ind[df_sf_ind['date'].isin(test_date_list) ].index.values\n",
    "sf_train_ids = df_sf_ind[~df_sf_ind['date'].isin(test_date_list) ].index.values\n",
    "\n",
    "nyc_docs_test = [nyc_docs_temp[i] for i in nyc_test_ids]\n",
    "nyc_docs_train = [nyc_docs_temp[i] for i in nyc_train_ids]\n",
    "\n",
    "sf_docs_test = [sf_docs_temp[i] for i in sf_test_ids]\n",
    "sf_docs_train = [sf_docs_temp[i] for i in sf_train_ids]\n"
   ]
  },
  {
   "cell_type": "code",
   "execution_count": null,
   "metadata": {
    "collapsed": true
   },
   "outputs": [],
   "source": [
    "# BEFORE TUNING PARAMETERS: create dictionary using the training dataset\n",
    "\n",
    "nyc_dict = corpora.Dictionary(nyc_docs_train)\n",
    "sf_dict = corpora.Dictionary(sf_docs_train)\n",
    "\n",
    "\n",
    "# filter out paris that only appear in one document\n",
    "sf_dict.filter_extremes(no_below=1)\n",
    "nyc_dict.filter_extremes(no_below=1)\n",
    "\n",
    "#print(sf_dict)\n",
    "#print(nyc_dict)\n",
    "\n",
    "# save for future use. NOTE: '1000' refers to the fact that this uses the 1000m grid. \n",
    "nyc_dict.save('working_data/nyc_grid1000.dict')\n",
    "sf_dict.save('working_data/sf_grid1000.dict')"
   ]
  },
  {
   "cell_type": "code",
   "execution_count": null,
   "metadata": {
    "collapsed": false
   },
   "outputs": [],
   "source": [
    "# convert training data to a corpus\n",
    "sf_corpus = [sf_dict.doc2bow(doc) for doc in sf_docs_train]\n",
    "nyc_corpus = [nyc_dict.doc2bow(doc) for doc in nyc_docs_train]\n",
    "\n",
    "# save corpus\n",
    "corpora.MmCorpus.serialize('working_data/sf_corpus_grid1000.mm', sf_corpus)\n",
    "corpora.MmCorpus.serialize('working_data/nyc_corpus_grid1000.mm', nyc_corpus)\n",
    "\n",
    "# also make the test corpus\n",
    "sf_corpus_test = [sf_dict.doc2bow(doc) for doc in sf_docs_test]\n",
    "nyc_corpus_test = [nyc_dict.doc2bow(doc) for doc in nyc_docs_test]\n",
    "\n",
    "# save corpus\n",
    "corpora.MmCorpus.serialize('working_data/sf_corpus_grid1000_test.mm', sf_corpus_test)\n",
    "corpora.MmCorpus.serialize('working_data/nyc_corpus_grid1000_test.mm', nyc_corpus_test)"
   ]
  },
  {
   "cell_type": "code",
   "execution_count": 348,
   "metadata": {
    "collapsed": false
   },
   "outputs": [
    {
     "name": "stdout",
     "output_type": "stream",
     "text": [
      "Dictionary(19826 unique tokens: [u'14978,14980', u'17751,21782', u'15432,15132', u'15432,15133', u'14975,15596']...)\n",
      "Dictionary(31765 unique tokens: [u'1054,1424', u'1054,1429', u'961,1355', u'961,1354', u'542,1448']...)\n",
      "Dictionary(19805 unique tokens: [u'14978,14980', u'15128,15286', u'15432,15131', u'15432,15132', u'15432,15133']...)\n",
      "Dictionary(31229 unique tokens: [u'1054,1424', u'1054,1429', u'961,1355', u'961,1354', u'542,1448']...)\n"
     ]
    }
   ],
   "source": [
    "# AFTER TUNING PARAMETERS: make dictionary out of entire dataset. \n",
    "\n",
    "sf_docs = sf_docs_temp\n",
    "nyc_docs = nyc_docs_temp\n",
    "\n",
    "nyc_dict = corpora.Dictionary(nyc_docs)\n",
    "sf_dict = corpora.Dictionary(sf_docs)\n",
    "\n",
    "\n",
    "# filter out paris that only appear in one document\n",
    "sf_dict.filter_extremes(no_below=1)\n",
    "nyc_dict.filter_extremes(no_below=1)\n",
    "\n",
    "print(sf_dict)\n",
    "print(nyc_dict)\n",
    "\n",
    "# save for future use. NOTE: '1000' refers to the fact that this uses the 1000m grid. \n",
    "nyc_dict.save('working_data/nyc_grid1000.dict')\n",
    "sf_dict.save('working_data/sf_grid1000.dict')"
   ]
  },
  {
   "cell_type": "code",
   "execution_count": 349,
   "metadata": {
    "collapsed": false
   },
   "outputs": [],
   "source": [
    "# and convert training data to a corpus\n",
    "sf_corpus = [sf_dict.doc2bow(doc) for doc in sf_docs]\n",
    "nyc_corpus = [nyc_dict.doc2bow(doc) for doc in nyc_docs]\n",
    "\n",
    "# temporarily save corpus if need to stop in middle.\n",
    "corpora.MmCorpus.serialize('working_data/sf_corpus_grid1000.mm', sf_corpus)\n",
    "corpora.MmCorpus.serialize('working_data/nyc_corpus_grid1000.mm', nyc_corpus)\n",
    "\n"
   ]
  },
  {
   "cell_type": "code",
   "execution_count": 55,
   "metadata": {
    "collapsed": false
   },
   "outputs": [],
   "source": [
    "# use this to load dictionaries and corpora later. \n",
    "#sf_corpus = corpora.MmCorpus('working_data/sf_corpus_grid1000.mm')\n",
    "#nyc_corpus = corpora.MmCorpus('working_data/nyc_corpus_grid1000.mm')\n",
    "\n",
    "\n",
    "#sf_dict = corpora.Dictionary.load('working_data/sf_grid1000.dict')\n",
    "#nyc_dict = corpora.Dictionary.load('working_data/nyc_grid1000.dict')\n",
    "\n"
   ]
  },
  {
   "cell_type": "markdown",
   "metadata": {},
   "source": [
    "# Train LDA model"
   ]
  },
  {
   "cell_type": "code",
   "execution_count": 350,
   "metadata": {
    "collapsed": false
   },
   "outputs": [
    {
     "name": "stdout",
     "output_type": "stream",
     "text": [
      "processing ny\n",
      "done with sf\n"
     ]
    }
   ],
   "source": [
    "# LDA\n",
    "\n",
    "def generate_topics(corpus, dictionary, k, alpha):\n",
    "    lda = models.ldamodel.LdaModel(corpus, id2word=dictionary,alpha = alpha, num_topics=k, passes = 10, iterations = 1000)\n",
    "    return lda\n",
    "\n",
    "\n",
    "k=5\n",
    "print 'processing ny'\n",
    "nyc_lda = generate_topics(nyc_corpus, nyc_dict, k, .5)\n",
    "sf_lda = generate_topics(sf_corpus, sf_dict, k, .25)\n",
    "print 'done with sf'"
   ]
  },
  {
   "cell_type": "code",
   "execution_count": 223,
   "metadata": {
    "collapsed": false
   },
   "outputs": [],
   "source": [
    "# this will minimize perplexity\n",
    "\n",
    "def minimize_perplexity(corpus, test, dictionary,k_range, a):\n",
    "    perplexities = []\n",
    "    for k in k_range:\n",
    "        lda  = generate_topics(corpus, dictionary, k, a)\n",
    "        per = lda.log_perplexity(test)\n",
    "        print k, per\n",
    "        row = [k, per]\n",
    "        perplexities.append(row)\n",
    "    return np.array(perplexities)"
   ]
  },
  {
   "cell_type": "code",
   "execution_count": 226,
   "metadata": {
    "collapsed": false
   },
   "outputs": [
    {
     "name": "stderr",
     "output_type": "stream",
     "text": [
      "WARNING:gensim.models.ldamodel:too few updates, training might not converge; consider increasing the number of passes or iterations to improve accuracy\n",
      "WARNING:gensim.models.ldamodel:too few updates, training might not converge; consider increasing the number of passes or iterations to improve accuracy\n"
     ]
    },
    {
     "name": "stdout",
     "output_type": "stream",
     "text": [
      "3 -9.86662175517\n"
     ]
    },
    {
     "ename": "KeyboardInterrupt",
     "evalue": "",
     "output_type": "error",
     "traceback": [
      "\u001b[0;31m---------------------------------------------------------------------------\u001b[0m\n\u001b[0;31mKeyboardInterrupt\u001b[0m                         Traceback (most recent call last)",
      "\u001b[0;32m<ipython-input-226-fecd3439eede>\u001b[0m in \u001b[0;36m<module>\u001b[0;34m()\u001b[0m\n\u001b[1;32m      2\u001b[0m \u001b[0mk_range\u001b[0m \u001b[0;34m=\u001b[0m \u001b[0;34m[\u001b[0m\u001b[0;36m3\u001b[0m\u001b[0;34m,\u001b[0m\u001b[0;36m4\u001b[0m\u001b[0;34m,\u001b[0m\u001b[0;36m5\u001b[0m\u001b[0;34m,\u001b[0m\u001b[0;36m6\u001b[0m\u001b[0;34m,\u001b[0m\u001b[0;36m7\u001b[0m\u001b[0;34m]\u001b[0m\u001b[0;34m\u001b[0m\u001b[0m\n\u001b[1;32m      3\u001b[0m \u001b[0;31m#alpha_range = [.001, .01, .05, .1, .25, .3, .5]\u001b[0m\u001b[0;34m\u001b[0m\u001b[0;34m\u001b[0m\u001b[0m\n\u001b[0;32m----> 4\u001b[0;31m \u001b[0msf_perplexities\u001b[0m \u001b[0;34m=\u001b[0m \u001b[0mminimize_perplexity\u001b[0m\u001b[0;34m(\u001b[0m\u001b[0msf_corpus\u001b[0m\u001b[0;34m,\u001b[0m \u001b[0msf_corpus_test\u001b[0m\u001b[0;34m,\u001b[0m \u001b[0msf_dict\u001b[0m\u001b[0;34m,\u001b[0m\u001b[0mk_range\u001b[0m\u001b[0;34m,\u001b[0m \u001b[0;36m.5\u001b[0m\u001b[0;34m)\u001b[0m\u001b[0;34m\u001b[0m\u001b[0m\n\u001b[0m",
      "\u001b[0;32m<ipython-input-223-6d517347abaa>\u001b[0m in \u001b[0;36mminimize_perplexity\u001b[0;34m(corpus, test, dictionary, k_range, a)\u001b[0m\n\u001b[1;32m      6\u001b[0m     \u001b[0mperplexities\u001b[0m \u001b[0;34m=\u001b[0m \u001b[0;34m[\u001b[0m\u001b[0;34m]\u001b[0m\u001b[0;34m\u001b[0m\u001b[0m\n\u001b[1;32m      7\u001b[0m     \u001b[0;32mfor\u001b[0m \u001b[0mk\u001b[0m \u001b[0;32min\u001b[0m \u001b[0mk_range\u001b[0m\u001b[0;34m:\u001b[0m\u001b[0;34m\u001b[0m\u001b[0m\n\u001b[0;32m----> 8\u001b[0;31m         \u001b[0mlda\u001b[0m  \u001b[0;34m=\u001b[0m \u001b[0mgenerate_topics\u001b[0m\u001b[0;34m(\u001b[0m\u001b[0mcorpus\u001b[0m\u001b[0;34m,\u001b[0m \u001b[0mdictionary\u001b[0m\u001b[0;34m,\u001b[0m \u001b[0mk\u001b[0m\u001b[0;34m,\u001b[0m \u001b[0ma\u001b[0m\u001b[0;34m)\u001b[0m\u001b[0;34m\u001b[0m\u001b[0m\n\u001b[0m\u001b[1;32m      9\u001b[0m         \u001b[0mper\u001b[0m \u001b[0;34m=\u001b[0m \u001b[0mlda\u001b[0m\u001b[0;34m.\u001b[0m\u001b[0mlog_perplexity\u001b[0m\u001b[0;34m(\u001b[0m\u001b[0mtest\u001b[0m\u001b[0;34m)\u001b[0m\u001b[0;34m\u001b[0m\u001b[0m\n\u001b[1;32m     10\u001b[0m         \u001b[0;32mprint\u001b[0m \u001b[0mk\u001b[0m\u001b[0;34m,\u001b[0m \u001b[0mper\u001b[0m\u001b[0;34m\u001b[0m\u001b[0m\n",
      "\u001b[0;32m<ipython-input-225-993dd0232532>\u001b[0m in \u001b[0;36mgenerate_topics\u001b[0;34m(corpus, dictionary, k, alpha)\u001b[0m\n\u001b[1;32m      2\u001b[0m \u001b[0;34m\u001b[0m\u001b[0m\n\u001b[1;32m      3\u001b[0m \u001b[0;32mdef\u001b[0m \u001b[0mgenerate_topics\u001b[0m\u001b[0;34m(\u001b[0m\u001b[0mcorpus\u001b[0m\u001b[0;34m,\u001b[0m \u001b[0mdictionary\u001b[0m\u001b[0;34m,\u001b[0m \u001b[0mk\u001b[0m\u001b[0;34m,\u001b[0m \u001b[0malpha\u001b[0m\u001b[0;34m)\u001b[0m\u001b[0;34m:\u001b[0m\u001b[0;34m\u001b[0m\u001b[0m\n\u001b[0;32m----> 4\u001b[0;31m     \u001b[0mlda\u001b[0m \u001b[0;34m=\u001b[0m \u001b[0mmodels\u001b[0m\u001b[0;34m.\u001b[0m\u001b[0mldamodel\u001b[0m\u001b[0;34m.\u001b[0m\u001b[0mLdaModel\u001b[0m\u001b[0;34m(\u001b[0m\u001b[0mcorpus\u001b[0m\u001b[0;34m,\u001b[0m \u001b[0mid2word\u001b[0m\u001b[0;34m=\u001b[0m\u001b[0mdictionary\u001b[0m\u001b[0;34m,\u001b[0m\u001b[0malpha\u001b[0m \u001b[0;34m=\u001b[0m \u001b[0malpha\u001b[0m\u001b[0;34m,\u001b[0m \u001b[0mnum_topics\u001b[0m\u001b[0;34m=\u001b[0m\u001b[0mk\u001b[0m\u001b[0;34m,\u001b[0m \u001b[0mpasses\u001b[0m \u001b[0;34m=\u001b[0m \u001b[0;36m5\u001b[0m\u001b[0;34m,\u001b[0m \u001b[0miterations\u001b[0m \u001b[0;34m=\u001b[0m \u001b[0;36m500\u001b[0m\u001b[0;34m)\u001b[0m\u001b[0;34m\u001b[0m\u001b[0m\n\u001b[0m\u001b[1;32m      5\u001b[0m     \u001b[0;32mreturn\u001b[0m \u001b[0mlda\u001b[0m\u001b[0;34m\u001b[0m\u001b[0m\n\u001b[1;32m      6\u001b[0m \u001b[0;34m\u001b[0m\u001b[0m\n",
      "\u001b[0;32m/Users/lrayle/anaconda/lib/python2.7/site-packages/gensim/models/ldamodel.pyc\u001b[0m in \u001b[0;36m__init__\u001b[0;34m(self, corpus, num_topics, id2word, distributed, chunksize, passes, update_every, alpha, eta, decay, offset, eval_every, iterations, gamma_threshold)\u001b[0m\n\u001b[1;32m    315\u001b[0m         \u001b[0;31m# if a training corpus was provided, start estimating the model right away\u001b[0m\u001b[0;34m\u001b[0m\u001b[0;34m\u001b[0m\u001b[0m\n\u001b[1;32m    316\u001b[0m         \u001b[0;32mif\u001b[0m \u001b[0mcorpus\u001b[0m \u001b[0;32mis\u001b[0m \u001b[0;32mnot\u001b[0m \u001b[0mNone\u001b[0m\u001b[0;34m:\u001b[0m\u001b[0;34m\u001b[0m\u001b[0m\n\u001b[0;32m--> 317\u001b[0;31m             \u001b[0mself\u001b[0m\u001b[0;34m.\u001b[0m\u001b[0mupdate\u001b[0m\u001b[0;34m(\u001b[0m\u001b[0mcorpus\u001b[0m\u001b[0;34m)\u001b[0m\u001b[0;34m\u001b[0m\u001b[0m\n\u001b[0m\u001b[1;32m    318\u001b[0m \u001b[0;34m\u001b[0m\u001b[0m\n\u001b[1;32m    319\u001b[0m \u001b[0;34m\u001b[0m\u001b[0m\n",
      "\u001b[0;32m/Users/lrayle/anaconda/lib/python2.7/site-packages/gensim/models/ldamodel.pyc\u001b[0m in \u001b[0;36mupdate\u001b[0;34m(self, corpus, chunksize, decay, offset, passes, update_every, eval_every, iterations, gamma_threshold)\u001b[0m\n\u001b[1;32m    566\u001b[0m \u001b[0;34m\u001b[0m\u001b[0m\n\u001b[1;32m    567\u001b[0m                 \u001b[0;32mif\u001b[0m \u001b[0meval_every\u001b[0m \u001b[0;32mand\u001b[0m \u001b[0;34m(\u001b[0m\u001b[0;34m(\u001b[0m\u001b[0mreallen\u001b[0m \u001b[0;34m==\u001b[0m \u001b[0mlencorpus\u001b[0m\u001b[0;34m)\u001b[0m \u001b[0;32mor\u001b[0m \u001b[0;34m(\u001b[0m\u001b[0;34m(\u001b[0m\u001b[0mchunk_no\u001b[0m \u001b[0;34m+\u001b[0m \u001b[0;36m1\u001b[0m\u001b[0;34m)\u001b[0m \u001b[0;34m%\u001b[0m \u001b[0;34m(\u001b[0m\u001b[0meval_every\u001b[0m \u001b[0;34m*\u001b[0m \u001b[0mself\u001b[0m\u001b[0;34m.\u001b[0m\u001b[0mnumworkers\u001b[0m\u001b[0;34m)\u001b[0m \u001b[0;34m==\u001b[0m \u001b[0;36m0\u001b[0m\u001b[0;34m)\u001b[0m\u001b[0;34m)\u001b[0m\u001b[0;34m:\u001b[0m\u001b[0;34m\u001b[0m\u001b[0m\n\u001b[0;32m--> 568\u001b[0;31m                     \u001b[0mself\u001b[0m\u001b[0;34m.\u001b[0m\u001b[0mlog_perplexity\u001b[0m\u001b[0;34m(\u001b[0m\u001b[0mchunk\u001b[0m\u001b[0;34m,\u001b[0m \u001b[0mtotal_docs\u001b[0m\u001b[0;34m=\u001b[0m\u001b[0mlencorpus\u001b[0m\u001b[0;34m)\u001b[0m\u001b[0;34m\u001b[0m\u001b[0m\n\u001b[0m\u001b[1;32m    569\u001b[0m \u001b[0;34m\u001b[0m\u001b[0m\n\u001b[1;32m    570\u001b[0m                 \u001b[0;32mif\u001b[0m \u001b[0mself\u001b[0m\u001b[0;34m.\u001b[0m\u001b[0mdispatcher\u001b[0m\u001b[0;34m:\u001b[0m\u001b[0;34m\u001b[0m\u001b[0m\n",
      "\u001b[0;32m/Users/lrayle/anaconda/lib/python2.7/site-packages/gensim/models/ldamodel.pyc\u001b[0m in \u001b[0;36mlog_perplexity\u001b[0;34m(self, chunk, total_docs)\u001b[0m\n\u001b[1;32m    472\u001b[0m         \u001b[0mcorpus_words\u001b[0m \u001b[0;34m=\u001b[0m \u001b[0msum\u001b[0m\u001b[0;34m(\u001b[0m\u001b[0mcnt\u001b[0m \u001b[0;32mfor\u001b[0m \u001b[0mdocument\u001b[0m \u001b[0;32min\u001b[0m \u001b[0mchunk\u001b[0m \u001b[0;32mfor\u001b[0m \u001b[0m_\u001b[0m\u001b[0;34m,\u001b[0m \u001b[0mcnt\u001b[0m \u001b[0;32min\u001b[0m \u001b[0mdocument\u001b[0m\u001b[0;34m)\u001b[0m\u001b[0;34m\u001b[0m\u001b[0m\n\u001b[1;32m    473\u001b[0m         \u001b[0msubsample_ratio\u001b[0m \u001b[0;34m=\u001b[0m \u001b[0;36m1.0\u001b[0m \u001b[0;34m*\u001b[0m \u001b[0mtotal_docs\u001b[0m \u001b[0;34m/\u001b[0m \u001b[0mlen\u001b[0m\u001b[0;34m(\u001b[0m\u001b[0mchunk\u001b[0m\u001b[0;34m)\u001b[0m\u001b[0;34m\u001b[0m\u001b[0m\n\u001b[0;32m--> 474\u001b[0;31m         \u001b[0mperwordbound\u001b[0m \u001b[0;34m=\u001b[0m \u001b[0mself\u001b[0m\u001b[0;34m.\u001b[0m\u001b[0mbound\u001b[0m\u001b[0;34m(\u001b[0m\u001b[0mchunk\u001b[0m\u001b[0;34m,\u001b[0m \u001b[0msubsample_ratio\u001b[0m\u001b[0;34m=\u001b[0m\u001b[0msubsample_ratio\u001b[0m\u001b[0;34m)\u001b[0m \u001b[0;34m/\u001b[0m \u001b[0;34m(\u001b[0m\u001b[0msubsample_ratio\u001b[0m \u001b[0;34m*\u001b[0m \u001b[0mcorpus_words\u001b[0m\u001b[0;34m)\u001b[0m\u001b[0;34m\u001b[0m\u001b[0m\n\u001b[0m\u001b[1;32m    475\u001b[0m         logger.info(\"%.3f per-word bound, %.1f perplexity estimate based on a held-out corpus of %i documents with %i words\" %\n\u001b[1;32m    476\u001b[0m             (perwordbound, numpy.exp2(-perwordbound), len(chunk), corpus_words))\n",
      "\u001b[0;32m/Users/lrayle/anaconda/lib/python2.7/site-packages/gensim/models/ldamodel.pyc\u001b[0m in \u001b[0;36mbound\u001b[0;34m(self, corpus, gamma, subsample_ratio)\u001b[0m\n\u001b[1;32m    652\u001b[0m                 \u001b[0mlogger\u001b[0m\u001b[0;34m.\u001b[0m\u001b[0mdebug\u001b[0m\u001b[0;34m(\u001b[0m\u001b[0;34m\"bound: at document #%i\"\u001b[0m \u001b[0;34m%\u001b[0m \u001b[0md\u001b[0m\u001b[0;34m)\u001b[0m\u001b[0;34m\u001b[0m\u001b[0m\n\u001b[1;32m    653\u001b[0m             \u001b[0;32mif\u001b[0m \u001b[0mgamma\u001b[0m \u001b[0;32mis\u001b[0m \u001b[0mNone\u001b[0m\u001b[0;34m:\u001b[0m\u001b[0;34m\u001b[0m\u001b[0m\n\u001b[0;32m--> 654\u001b[0;31m                 \u001b[0mgammad\u001b[0m\u001b[0;34m,\u001b[0m \u001b[0m_\u001b[0m \u001b[0;34m=\u001b[0m \u001b[0mself\u001b[0m\u001b[0;34m.\u001b[0m\u001b[0minference\u001b[0m\u001b[0;34m(\u001b[0m\u001b[0;34m[\u001b[0m\u001b[0mdoc\u001b[0m\u001b[0;34m]\u001b[0m\u001b[0;34m)\u001b[0m\u001b[0;34m\u001b[0m\u001b[0m\n\u001b[0m\u001b[1;32m    655\u001b[0m             \u001b[0;32melse\u001b[0m\u001b[0;34m:\u001b[0m\u001b[0;34m\u001b[0m\u001b[0m\n\u001b[1;32m    656\u001b[0m                 \u001b[0mgammad\u001b[0m \u001b[0;34m=\u001b[0m \u001b[0mgamma\u001b[0m\u001b[0;34m[\u001b[0m\u001b[0md\u001b[0m\u001b[0;34m]\u001b[0m\u001b[0;34m\u001b[0m\u001b[0m\n",
      "\u001b[0;32m/Users/lrayle/anaconda/lib/python2.7/site-packages/gensim/models/ldamodel.pyc\u001b[0m in \u001b[0;36minference\u001b[0;34m(self, chunk, collect_sstats)\u001b[0m\n\u001b[1;32m    391\u001b[0m                 \u001b[0;31m# the update for gamma gives this update. Cf. Lee&Seung 2001.\u001b[0m\u001b[0;34m\u001b[0m\u001b[0;34m\u001b[0m\u001b[0m\n\u001b[1;32m    392\u001b[0m                 \u001b[0mgammad\u001b[0m \u001b[0;34m=\u001b[0m \u001b[0mself\u001b[0m\u001b[0;34m.\u001b[0m\u001b[0malpha\u001b[0m \u001b[0;34m+\u001b[0m \u001b[0mexpElogthetad\u001b[0m \u001b[0;34m*\u001b[0m \u001b[0mnumpy\u001b[0m\u001b[0;34m.\u001b[0m\u001b[0mdot\u001b[0m\u001b[0;34m(\u001b[0m\u001b[0mcts\u001b[0m \u001b[0;34m/\u001b[0m \u001b[0mphinorm\u001b[0m\u001b[0;34m,\u001b[0m \u001b[0mexpElogbetad\u001b[0m\u001b[0;34m.\u001b[0m\u001b[0mT\u001b[0m\u001b[0;34m)\u001b[0m\u001b[0;34m\u001b[0m\u001b[0m\n\u001b[0;32m--> 393\u001b[0;31m                 \u001b[0mElogthetad\u001b[0m \u001b[0;34m=\u001b[0m \u001b[0mdirichlet_expectation\u001b[0m\u001b[0;34m(\u001b[0m\u001b[0mgammad\u001b[0m\u001b[0;34m)\u001b[0m\u001b[0;34m\u001b[0m\u001b[0m\n\u001b[0m\u001b[1;32m    394\u001b[0m                 \u001b[0mexpElogthetad\u001b[0m \u001b[0;34m=\u001b[0m \u001b[0mnumpy\u001b[0m\u001b[0;34m.\u001b[0m\u001b[0mexp\u001b[0m\u001b[0;34m(\u001b[0m\u001b[0mElogthetad\u001b[0m\u001b[0;34m)\u001b[0m\u001b[0;34m\u001b[0m\u001b[0m\n\u001b[1;32m    395\u001b[0m                 \u001b[0mphinorm\u001b[0m \u001b[0;34m=\u001b[0m \u001b[0mnumpy\u001b[0m\u001b[0;34m.\u001b[0m\u001b[0mdot\u001b[0m\u001b[0;34m(\u001b[0m\u001b[0mexpElogthetad\u001b[0m\u001b[0;34m,\u001b[0m \u001b[0mexpElogbetad\u001b[0m\u001b[0;34m)\u001b[0m \u001b[0;34m+\u001b[0m \u001b[0;36m1e-100\u001b[0m\u001b[0;34m\u001b[0m\u001b[0m\n",
      "\u001b[0;32m/Users/lrayle/anaconda/lib/python2.7/site-packages/gensim/models/ldamodel.pyc\u001b[0m in \u001b[0;36mdirichlet_expectation\u001b[0;34m(alpha)\u001b[0m\n\u001b[1;32m     60\u001b[0m     \"\"\"\n\u001b[1;32m     61\u001b[0m     \u001b[0;32mif\u001b[0m \u001b[0;34m(\u001b[0m\u001b[0mlen\u001b[0m\u001b[0;34m(\u001b[0m\u001b[0malpha\u001b[0m\u001b[0;34m.\u001b[0m\u001b[0mshape\u001b[0m\u001b[0;34m)\u001b[0m \u001b[0;34m==\u001b[0m \u001b[0;36m1\u001b[0m\u001b[0;34m)\u001b[0m\u001b[0;34m:\u001b[0m\u001b[0;34m\u001b[0m\u001b[0m\n\u001b[0;32m---> 62\u001b[0;31m         \u001b[0mresult\u001b[0m \u001b[0;34m=\u001b[0m \u001b[0mpsi\u001b[0m\u001b[0;34m(\u001b[0m\u001b[0malpha\u001b[0m\u001b[0;34m)\u001b[0m \u001b[0;34m-\u001b[0m \u001b[0mpsi\u001b[0m\u001b[0;34m(\u001b[0m\u001b[0mnumpy\u001b[0m\u001b[0;34m.\u001b[0m\u001b[0msum\u001b[0m\u001b[0;34m(\u001b[0m\u001b[0malpha\u001b[0m\u001b[0;34m)\u001b[0m\u001b[0;34m)\u001b[0m\u001b[0;34m\u001b[0m\u001b[0m\n\u001b[0m\u001b[1;32m     63\u001b[0m     \u001b[0;32melse\u001b[0m\u001b[0;34m:\u001b[0m\u001b[0;34m\u001b[0m\u001b[0m\n\u001b[1;32m     64\u001b[0m         \u001b[0mresult\u001b[0m \u001b[0;34m=\u001b[0m \u001b[0mpsi\u001b[0m\u001b[0;34m(\u001b[0m\u001b[0malpha\u001b[0m\u001b[0;34m)\u001b[0m \u001b[0;34m-\u001b[0m \u001b[0mpsi\u001b[0m\u001b[0;34m(\u001b[0m\u001b[0mnumpy\u001b[0m\u001b[0;34m.\u001b[0m\u001b[0msum\u001b[0m\u001b[0;34m(\u001b[0m\u001b[0malpha\u001b[0m\u001b[0;34m,\u001b[0m \u001b[0;36m1\u001b[0m\u001b[0;34m)\u001b[0m\u001b[0;34m)\u001b[0m\u001b[0;34m[\u001b[0m\u001b[0;34m:\u001b[0m\u001b[0;34m,\u001b[0m \u001b[0mnumpy\u001b[0m\u001b[0;34m.\u001b[0m\u001b[0mnewaxis\u001b[0m\u001b[0;34m]\u001b[0m\u001b[0;34m\u001b[0m\u001b[0m\n",
      "\u001b[0;32m/Users/lrayle/anaconda/lib/python2.7/site-packages/numpy/core/fromnumeric.pyc\u001b[0m in \u001b[0;36msum\u001b[0;34m(a, axis, dtype, out, keepdims)\u001b[0m\n\u001b[1;32m   1714\u001b[0m     \u001b[0;32melse\u001b[0m\u001b[0;34m:\u001b[0m\u001b[0;34m\u001b[0m\u001b[0m\n\u001b[1;32m   1715\u001b[0m         return _methods._sum(a, axis=axis, dtype=dtype,\n\u001b[0;32m-> 1716\u001b[0;31m                             out=out, keepdims=keepdims)\n\u001b[0m\u001b[1;32m   1717\u001b[0m \u001b[0;34m\u001b[0m\u001b[0m\n\u001b[1;32m   1718\u001b[0m \u001b[0;32mdef\u001b[0m \u001b[0mproduct\u001b[0m \u001b[0;34m(\u001b[0m\u001b[0ma\u001b[0m\u001b[0;34m,\u001b[0m \u001b[0maxis\u001b[0m\u001b[0;34m=\u001b[0m\u001b[0mNone\u001b[0m\u001b[0;34m,\u001b[0m \u001b[0mdtype\u001b[0m\u001b[0;34m=\u001b[0m\u001b[0mNone\u001b[0m\u001b[0;34m,\u001b[0m \u001b[0mout\u001b[0m\u001b[0;34m=\u001b[0m\u001b[0mNone\u001b[0m\u001b[0;34m,\u001b[0m \u001b[0mkeepdims\u001b[0m\u001b[0;34m=\u001b[0m\u001b[0mFalse\u001b[0m\u001b[0;34m)\u001b[0m\u001b[0;34m:\u001b[0m\u001b[0;34m\u001b[0m\u001b[0m\n",
      "\u001b[0;32m/Users/lrayle/anaconda/lib/python2.7/site-packages/numpy/core/_methods.pyc\u001b[0m in \u001b[0;36m_sum\u001b[0;34m(a, axis, dtype, out, keepdims)\u001b[0m\n\u001b[1;32m     30\u001b[0m \u001b[0;34m\u001b[0m\u001b[0m\n\u001b[1;32m     31\u001b[0m \u001b[0;32mdef\u001b[0m \u001b[0m_sum\u001b[0m\u001b[0;34m(\u001b[0m\u001b[0ma\u001b[0m\u001b[0;34m,\u001b[0m \u001b[0maxis\u001b[0m\u001b[0;34m=\u001b[0m\u001b[0mNone\u001b[0m\u001b[0;34m,\u001b[0m \u001b[0mdtype\u001b[0m\u001b[0;34m=\u001b[0m\u001b[0mNone\u001b[0m\u001b[0;34m,\u001b[0m \u001b[0mout\u001b[0m\u001b[0;34m=\u001b[0m\u001b[0mNone\u001b[0m\u001b[0;34m,\u001b[0m \u001b[0mkeepdims\u001b[0m\u001b[0;34m=\u001b[0m\u001b[0mFalse\u001b[0m\u001b[0;34m)\u001b[0m\u001b[0;34m:\u001b[0m\u001b[0;34m\u001b[0m\u001b[0m\n\u001b[0;32m---> 32\u001b[0;31m     \u001b[0;32mreturn\u001b[0m \u001b[0mumr_sum\u001b[0m\u001b[0;34m(\u001b[0m\u001b[0ma\u001b[0m\u001b[0;34m,\u001b[0m \u001b[0maxis\u001b[0m\u001b[0;34m,\u001b[0m \u001b[0mdtype\u001b[0m\u001b[0;34m,\u001b[0m \u001b[0mout\u001b[0m\u001b[0;34m,\u001b[0m \u001b[0mkeepdims\u001b[0m\u001b[0;34m)\u001b[0m\u001b[0;34m\u001b[0m\u001b[0m\n\u001b[0m\u001b[1;32m     33\u001b[0m \u001b[0;34m\u001b[0m\u001b[0m\n\u001b[1;32m     34\u001b[0m \u001b[0;32mdef\u001b[0m \u001b[0m_prod\u001b[0m\u001b[0;34m(\u001b[0m\u001b[0ma\u001b[0m\u001b[0;34m,\u001b[0m \u001b[0maxis\u001b[0m\u001b[0;34m=\u001b[0m\u001b[0mNone\u001b[0m\u001b[0;34m,\u001b[0m \u001b[0mdtype\u001b[0m\u001b[0;34m=\u001b[0m\u001b[0mNone\u001b[0m\u001b[0;34m,\u001b[0m \u001b[0mout\u001b[0m\u001b[0;34m=\u001b[0m\u001b[0mNone\u001b[0m\u001b[0;34m,\u001b[0m \u001b[0mkeepdims\u001b[0m\u001b[0;34m=\u001b[0m\u001b[0mFalse\u001b[0m\u001b[0;34m)\u001b[0m\u001b[0;34m:\u001b[0m\u001b[0;34m\u001b[0m\u001b[0m\n",
      "\u001b[0;31mKeyboardInterrupt\u001b[0m: "
     ]
    }
   ],
   "source": [
    "#alpha = 'auto'\n",
    "k_range = [3,4,5,6,7]\n",
    "#alpha_range = [.001, .01, .05, .1, .25, .3, .5]\n",
    "sf_perplexities = minimize_perplexity(sf_corpus, sf_corpus_test, sf_dict,k_range, .5)"
   ]
  },
  {
   "cell_type": "code",
   "execution_count": null,
   "metadata": {
    "collapsed": false
   },
   "outputs": [],
   "source": [
    "# That didn't work, try different parameters\n",
    "k_range = [3,4,5,6,7]\n",
    "alpha_range = [.2, .7]\n",
    "nyc_perplexities_a = minimize_perplexity(nyc_corpus, nyc_corpus_test, nyc_dict,k_range, .25)"
   ]
  },
  {
   "cell_type": "code",
   "execution_count": 221,
   "metadata": {
    "collapsed": false
   },
   "outputs": [
    {
     "name": "stdout",
     "output_type": "stream",
     "text": [
      "0.2 -9.92272747814\n",
      "0.7 -9.80501621986\n",
      "k=5\n",
      "sf\n",
      "0.2 -9.95202100098\n",
      "0.7 -10.2895477958\n",
      "ny\n",
      "0.2 -9.82568539961\n"
     ]
    }
   ],
   "source": [
    "k_range = [3,4,5,6,7]\n",
    "k = 5\n",
    "print 'sf'\n",
    "sf_perplexitiesk5_2 = minimize_perplexity(sf_corpus, sf_corpus_test, sf_dict,k, alpha_range)\n",
    "print 'ny'\n",
    "nyc_perplexities_k5_2 = minimize_perplexity(nyc_corpus, nyc_corpus_test, nyc_dict,k, [.2])"
   ]
  },
  {
   "cell_type": "code",
   "execution_count": 155,
   "metadata": {
    "collapsed": false
   },
   "outputs": [
    {
     "name": "stderr",
     "output_type": "stream",
     "text": [
      "WARNING:gensim.models.ldamodel:too few updates, training might not converge; consider increasing the number of passes or iterations to improve accuracy\n"
     ]
    }
   ],
   "source": [
    "alpha = 'auto'\n",
    "k = 3 # number of topics \n",
    "sf_lda = models.ldamodel.LdaModel(sf_corpus, id2word=sf_dict, num_topics=k, alpha = alpha, iterations = 200)\n"
   ]
  },
  {
   "cell_type": "markdown",
   "metadata": {},
   "source": [
    "# Visualize results"
   ]
  },
  {
   "cell_type": "code",
   "execution_count": 381,
   "metadata": {
    "collapsed": false
   },
   "outputs": [
    {
     "name": "stdout",
     "output_type": "stream",
     "text": [
      "   orig  dest         pair      prob  topic\n",
      "0  1102  1009  (1102,1009)  0.001577      0\n",
      "1    73   684     (73,684)  0.001492      0\n",
      "2    87  1009    (87,1009)  0.001354      0\n",
      "3    73   914     (73,914)  0.001344      0\n",
      "4   728   961    (728,961)  0.001307      0\n",
      "5   916   101    (916,101)  0.001304      0\n",
      "6   101   915    (101,915)  0.001255      0\n",
      "7   775  1009   (775,1009)  0.001249      0\n",
      "8   961  1056   (961,1056)  0.001247      0\n",
      "9    73   961     (73,961)  0.001236      0\n",
      "     orig dest       pair      prob  topic\n",
      "2000  728  634  (728,634)  0.001822      1\n",
      "2001  681  682  (681,682)  0.001699      1\n",
      "2002  683  775  (683,775)  0.001665      1\n",
      "2003  729  681  (729,681)  0.001590      1\n",
      "2004  729  868  (729,868)  0.001536      1\n",
      "2005  775  635  (775,635)  0.001508      1\n",
      "2006  774   73   (774,73)  0.001446      1\n",
      "2007  731  776  (731,776)  0.001437      1\n",
      "2008  785  821  (785,821)  0.001433      1\n",
      "2009  962  775  (962,775)  0.001421      1\n",
      "      orig  dest         pair      prob  topic\n",
      "4000   916   101    (916,101)  0.002407      2\n",
      "4001    87  1009    (87,1009)  0.002230      2\n",
      "4002   775   961    (775,961)  0.002176      2\n",
      "4003   868   101    (868,101)  0.002099      2\n",
      "4004   869   101    (869,101)  0.001978      2\n",
      "4005   821   635    (821,635)  0.001905      2\n",
      "4006  1102  1009  (1102,1009)  0.001880      2\n",
      "4007   775   635    (775,635)  0.001864      2\n",
      "4008   822   635    (822,635)  0.001822      2\n",
      "4009   915   681    (915,681)  0.001768      2\n"
     ]
    }
   ],
   "source": [
    "# make csv table to visualize in QGIS. \n",
    "\n",
    "# inputs are LDA model instance and k= number of topics and n=number of pairs to show\n",
    "def get_topic_probs(model,k, n):\n",
    "    pairs = []\n",
    "    for t in range(k):\n",
    "        words = model.show_topic(t, n)\n",
    "        for p,w in words:\n",
    "            orig = str(w.split(',')[0]).rstrip('.0')\n",
    "            dest = str(w.split(',')[1]).rstrip('.0')\n",
    "            pair = '(' + orig + ',' + dest+ ')'\n",
    "            prob = float(p)\n",
    "            topic = int(t)\n",
    "            row = [orig, dest, pair, prob, topic]\n",
    "            pairs.append(row)\n",
    "    df = pd.DataFrame(pairs, columns=['orig','dest','pair','prob','topic'])\n",
    "\n",
    "    return df\n",
    "            \n",
    "sf_results = get_topic_probs(sf_lda, 5, 2000)\n",
    "nyc_results = get_topic_probs(nyc_lda, 5, 2000)\n",
    "\n",
    "# look at results\n",
    "print nyc_results[:10]\n",
    "print nyc_results[2000:2010]\n",
    "print nyc_results[4000:4010]\n",
    "\n",
    "nyc_results.to_csv('results/nyc_LDA_topic_results.csv', index=False)\n",
    "sf_results.to_csv('results/sf_LDA_topic_results.csv', index=False)"
   ]
  },
  {
   "cell_type": "code",
   "execution_count": 383,
   "metadata": {
    "collapsed": false
   },
   "outputs": [],
   "source": [
    "# save tables of ODs for each topic as csvs for mapping\n",
    "# df is results dataframe we just made\n",
    "def save_topic_tables(df, city):\n",
    "    for top in range(k):\n",
    "        df_top = df[df.topic == top]\n",
    "        df_top.to_csv('results/{c}_LDA_results_topic{t}.csv'.format(c=city, t=str(top)), index=False)\n",
    "        \n",
    "save_topic_tables(sf_results, 'sf')\n",
    "save_topic_tables(nyc_results, 'nyc')\n",
    "    "
   ]
  },
  {
   "cell_type": "code",
   "execution_count": 352,
   "metadata": {
    "collapsed": false
   },
   "outputs": [
    {
     "data": {
      "text/plain": [
       "[[(0, 0.43396607560167), (3, 0.069027717487691001), (4, 0.49187712381070542)],\n",
       " [(3, 0.040940271820370189), (4, 0.9489062632079317)],\n",
       " [(3, 0.16717242913193611), (4, 0.8189175151453818)],\n",
       " [(1, 0.46031958951178342), (4, 0.51398749162653157)],\n",
       " [(1, 0.77493241033839577), (2, 0.20865329952986547)],\n",
       " [(1, 0.9490764086853446), (4, 0.036605084044696687)],\n",
       " [(1, 0.85586583791609327), (3, 0.13555053043660878)],\n",
       " [(1, 0.71433364165982971),\n",
       "  (2, 0.10152310676168085),\n",
       "  (3, 0.18013925928950886)],\n",
       " [(1, 0.53897370521121557), (3, 0.45673029840579094)],\n",
       " [(1, 0.3684707855274742), (3, 0.62757670184141201)]]"
      ]
     },
     "execution_count": 352,
     "metadata": {},
     "output_type": "execute_result"
    }
   ],
   "source": [
    "# make list of topic and probs for each doc\n",
    "nyc_topics = [nyc_lda[d] for d in nyc_corpus]\n",
    "sf_topics = [sf_lda[d] for d in sf_corpus]"
   ]
  },
  {
   "cell_type": "code",
   "execution_count": 238,
   "metadata": {
    "collapsed": false
   },
   "outputs": [
    {
     "data": {
      "text/plain": [
       "648"
      ]
     },
     "execution_count": 238,
     "metadata": {},
     "output_type": "execute_result"
    }
   ],
   "source": [
    "len(sf_topics)\n",
    "len(nyc_topics)\n",
    "\n",
    "#for i, d in enumerate(sf_ind_temp):\n",
    "    #print d, sf_topics[i]"
   ]
  },
  {
   "cell_type": "code",
   "execution_count": 354,
   "metadata": {
    "collapsed": false
   },
   "outputs": [],
   "source": [
    "# makes a dataframe to hold the results and match them up with the original data\n",
    "\n",
    "def get_trips_by_hour(topics, k, df_ind):\n",
    "    topic_by_hour = np.zeros((len(topics),k))\n",
    "    for i, h in enumerate(topics):\n",
    "        row = [0]*k\n",
    "        for t in range(len(h)):\n",
    "            topic = h[t][0]\n",
    "            prob = h[t][1]\n",
    "            row[topic] = prob\n",
    "        topic_by_hour[i] = row\n",
    "        # make columns with the probability of each topic. \n",
    "    df_tops = pd.DataFrame(topic_by_hour, columns=['p0','p1','p2','p3','p4'])\n",
    "    \n",
    "    # multiply by number of trips that hour. \n",
    "    df_tops['trips0'] = df_tops.p0 * df_ind.tot_trips\n",
    "    df_tops['trips1'] = df_tops.p1 * df_ind.tot_trips\n",
    "    df_tops['trips2'] = df_tops.p2 * df_ind.tot_trips\n",
    "    df_tops['trips3'] = df_tops.p3 * df_ind.tot_trips\n",
    "    df_tops['trips4'] = df_tops.p4 * df_ind.tot_trips\n",
    "    \n",
    "    # add date, hour, and doc_id as reference. \n",
    "    df_tops['date'] = df_ind.date\n",
    "    df_tops['hour'] = df_ind.hour\n",
    "    df_tops['doc_id'] = df_ind.doc_id\n",
    "    \n",
    "    return df_tops\n",
    "\n",
    "\n",
    "sf_trips_hour = get_trips_by_hour(sf_topics, 5, df_sf_ind)\n",
    "nyc_trips_hour = get_trips_by_hour(nyc_topics, 5, df_nyc_ind)"
   ]
  },
  {
   "cell_type": "code",
   "execution_count": 3,
   "metadata": {
    "collapsed": false
   },
   "outputs": [
    {
     "ename": "NameError",
     "evalue": "name 'nyc_trips_hour' is not defined",
     "output_type": "error",
     "traceback": [
      "\u001b[0;31m---------------------------------------------------------------------------\u001b[0m",
      "\u001b[0;31mNameError\u001b[0m                                 Traceback (most recent call last)",
      "\u001b[0;32m<ipython-input-3-3e712f6ae8c9>\u001b[0m in \u001b[0;36m<module>\u001b[0;34m()\u001b[0m\n\u001b[1;32m      1\u001b[0m \u001b[0;31m# LOAD from csv\u001b[0m\u001b[0;34m\u001b[0m\u001b[0;34m\u001b[0m\u001b[0m\n\u001b[0;32m----> 2\u001b[0;31m \u001b[0mnyc_trips_hour\u001b[0m\u001b[0;34m.\u001b[0m\u001b[0mhead\u001b[0m\u001b[0;34m(\u001b[0m\u001b[0;34m)\u001b[0m\u001b[0;34m\u001b[0m\u001b[0m\n\u001b[0m\u001b[1;32m      3\u001b[0m \u001b[0mnyc_trips_hour\u001b[0m\u001b[0;34m.\u001b[0m\u001b[0mto_csv\u001b[0m\u001b[0;34m(\u001b[0m\u001b[0;34m'/Users/lisarayle/Dropbox/Old_projects/CE263/final-project/nyc_LDA_hour_results.csv'\u001b[0m\u001b[0;34m,\u001b[0m \u001b[0mindex\u001b[0m\u001b[0;34m=\u001b[0m\u001b[0;32mTrue\u001b[0m\u001b[0;34m)\u001b[0m\u001b[0;34m\u001b[0m\u001b[0m\n\u001b[1;32m      4\u001b[0m \u001b[0msf_trips_hour\u001b[0m\u001b[0;34m.\u001b[0m\u001b[0mto_csv\u001b[0m\u001b[0;34m(\u001b[0m\u001b[0;34m'/Users/lisarayle/Dropbox/Old_projects/CE263/final-project/sf_LDA_hour_results.csv'\u001b[0m\u001b[0;34m,\u001b[0m \u001b[0mindex\u001b[0m\u001b[0;34m=\u001b[0m\u001b[0;32mTrue\u001b[0m\u001b[0;34m)\u001b[0m\u001b[0;34m\u001b[0m\u001b[0m\n",
      "\u001b[0;31mNameError\u001b[0m: name 'nyc_trips_hour' is not defined"
     ]
    }
   ],
   "source": [
    "# SAVE to csv\n",
    "nyc_trips_hour.to_csv('results/nyc_LDA_hour_results.csv', index=True)\n",
    "sf_trips_hour.to_csv('results/sf_LDA_hour_results.csv', index=True)"
   ]
  },
  {
   "cell_type": "code",
   "execution_count": 4,
   "metadata": {
    "collapsed": false
   },
   "outputs": [
    {
     "data": {
      "text/html": [
       "<div>\n",
       "<table border=\"1\" class=\"dataframe\">\n",
       "  <thead>\n",
       "    <tr style=\"text-align: right;\">\n",
       "      <th></th>\n",
       "      <th>Unnamed: 0</th>\n",
       "      <th>p0</th>\n",
       "      <th>p1</th>\n",
       "      <th>p2</th>\n",
       "      <th>p3</th>\n",
       "      <th>p4</th>\n",
       "      <th>trips0</th>\n",
       "      <th>trips1</th>\n",
       "      <th>trips2</th>\n",
       "      <th>trips3</th>\n",
       "      <th>trips4</th>\n",
       "      <th>date</th>\n",
       "      <th>hour</th>\n",
       "      <th>doc_id</th>\n",
       "    </tr>\n",
       "  </thead>\n",
       "  <tbody>\n",
       "    <tr>\n",
       "      <th>0</th>\n",
       "      <td>0</td>\n",
       "      <td>0.433966</td>\n",
       "      <td>0.000000</td>\n",
       "      <td>0.000000</td>\n",
       "      <td>0.069028</td>\n",
       "      <td>0.491877</td>\n",
       "      <td>53.377827</td>\n",
       "      <td>0.000000</td>\n",
       "      <td>0.000000</td>\n",
       "      <td>8.490409</td>\n",
       "      <td>60.500886</td>\n",
       "      <td>2013-10-01</td>\n",
       "      <td>0</td>\n",
       "      <td>0</td>\n",
       "    </tr>\n",
       "    <tr>\n",
       "      <th>1</th>\n",
       "      <td>1</td>\n",
       "      <td>0.000000</td>\n",
       "      <td>0.000000</td>\n",
       "      <td>0.000000</td>\n",
       "      <td>0.040940</td>\n",
       "      <td>0.948906</td>\n",
       "      <td>0.000000</td>\n",
       "      <td>0.000000</td>\n",
       "      <td>0.000000</td>\n",
       "      <td>4.094027</td>\n",
       "      <td>94.890626</td>\n",
       "      <td>2013-10-01</td>\n",
       "      <td>1</td>\n",
       "      <td>1</td>\n",
       "    </tr>\n",
       "    <tr>\n",
       "      <th>2</th>\n",
       "      <td>2</td>\n",
       "      <td>0.000000</td>\n",
       "      <td>0.000000</td>\n",
       "      <td>0.000000</td>\n",
       "      <td>0.167172</td>\n",
       "      <td>0.818918</td>\n",
       "      <td>0.000000</td>\n",
       "      <td>0.000000</td>\n",
       "      <td>0.000000</td>\n",
       "      <td>10.866208</td>\n",
       "      <td>53.229638</td>\n",
       "      <td>2013-10-01</td>\n",
       "      <td>2</td>\n",
       "      <td>2</td>\n",
       "    </tr>\n",
       "    <tr>\n",
       "      <th>3</th>\n",
       "      <td>3</td>\n",
       "      <td>0.000000</td>\n",
       "      <td>0.460320</td>\n",
       "      <td>0.000000</td>\n",
       "      <td>0.000000</td>\n",
       "      <td>0.513987</td>\n",
       "      <td>0.000000</td>\n",
       "      <td>15.190546</td>\n",
       "      <td>0.000000</td>\n",
       "      <td>0.000000</td>\n",
       "      <td>16.961587</td>\n",
       "      <td>2013-10-01</td>\n",
       "      <td>3</td>\n",
       "      <td>3</td>\n",
       "    </tr>\n",
       "    <tr>\n",
       "      <th>4</th>\n",
       "      <td>4</td>\n",
       "      <td>0.000000</td>\n",
       "      <td>0.774932</td>\n",
       "      <td>0.208653</td>\n",
       "      <td>0.000000</td>\n",
       "      <td>0.000000</td>\n",
       "      <td>0.000000</td>\n",
       "      <td>44.171147</td>\n",
       "      <td>11.893238</td>\n",
       "      <td>0.000000</td>\n",
       "      <td>0.000000</td>\n",
       "      <td>2013-10-01</td>\n",
       "      <td>4</td>\n",
       "      <td>4</td>\n",
       "    </tr>\n",
       "  </tbody>\n",
       "</table>\n",
       "</div>"
      ],
      "text/plain": [
       "   Unnamed: 0        p0        p1        p2        p3        p4     trips0  \\\n",
       "0           0  0.433966  0.000000  0.000000  0.069028  0.491877  53.377827   \n",
       "1           1  0.000000  0.000000  0.000000  0.040940  0.948906   0.000000   \n",
       "2           2  0.000000  0.000000  0.000000  0.167172  0.818918   0.000000   \n",
       "3           3  0.000000  0.460320  0.000000  0.000000  0.513987   0.000000   \n",
       "4           4  0.000000  0.774932  0.208653  0.000000  0.000000   0.000000   \n",
       "\n",
       "      trips1     trips2     trips3     trips4        date  hour  doc_id  \n",
       "0   0.000000   0.000000   8.490409  60.500886  2013-10-01     0       0  \n",
       "1   0.000000   0.000000   4.094027  94.890626  2013-10-01     1       1  \n",
       "2   0.000000   0.000000  10.866208  53.229638  2013-10-01     2       2  \n",
       "3  15.190546   0.000000   0.000000  16.961587  2013-10-01     3       3  \n",
       "4  44.171147  11.893238   0.000000   0.000000  2013-10-01     4       4  "
      ]
     },
     "execution_count": 4,
     "metadata": {},
     "output_type": "execute_result"
    }
   ],
   "source": [
    "# LOAD from csv\n",
    "#nyc_trips_hour = pd.read_csv('results/nyc_LDA_hour_results.csv')\n",
    "#sf_trips_hour = pd.read_csv('results/sf_LDA_hour_results.csv')\n",
    "nyc_trips_hour.head()\n",
    "sf_trips_hour.head()"
   ]
  },
  {
   "cell_type": "code",
   "execution_count": 6,
   "metadata": {
    "collapsed": false
   },
   "outputs": [
    {
     "name": "stderr",
     "output_type": "stream",
     "text": [
      "//anaconda/lib/python3.5/site-packages/ipykernel/__main__.py:10: FutureWarning: sort(columns=....) is deprecated, use sort_values(by=.....)\n",
      "//anaconda/lib/python3.5/site-packages/ipykernel/__main__.py:38: FutureWarning: scalar indexers for index type Int64Index should be integers and not floating point\n"
     ]
    },
    {
     "data": {
      "image/png": "[encoded data removed]",
      "text/plain": [
       "<matplotlib.figure.Figure at 0x10ad79828>"
      ]
     },
     "metadata": {},
     "output_type": "display_data"
    },
    {
     "data": {
      "image/png": "[encoded data removed]",
      "text/plain": [
       "<matplotlib.figure.Figure at 0x10acfaa90>"
      ]
     },
     "metadata": {},
     "output_type": "display_data"
    }
   ],
   "source": [
    "# plot number of trips by hour, with diff color for each topic to which that trip belongs. \n",
    "# df is the trips_hour dataframe we just constructed. xlims is the range of dates to plot. \n",
    "import matplotlib.ticker as plticker\n",
    "\n",
    "def plot_trip_by_hour(df, xlims ):\n",
    "    \n",
    "    red, blue, cyan, orange, green = '#FF5050', '#2166AC','#6CE8E8', '#FFCC66', '#00CC99'\n",
    "    fig = plt.figure(figsize=(10, 6))\n",
    "    \n",
    "    df = df.sort(columns = ['date','hour']).reset_index()\n",
    "    \n",
    "    ind = range(len(df))\n",
    "    \n",
    "    t1 = df.trips0\n",
    "    t2 = df.trips1\n",
    "    t3 = df.trips2\n",
    "    t4 = df.trips3\n",
    "    t5 = df.trips4\n",
    "\n",
    "    ax = plt.subplot(111)\n",
    "\n",
    "    ax.bar(ind, t1, color=cyan, label='topic 1', edgecolor = 'none')\n",
    "    ax.bar(ind, t2, bottom = 0, color=blue, label='topic 2', edgecolor = 'none')\n",
    "    ax.bar(ind, t3, bottom = 0, color=orange, label='topic 3', edgecolor = 'none')\n",
    "    ax.bar(ind, t4, bottom = 0, color=green, label='topic 4', edgecolor = 'none')\n",
    "    ax.bar(ind, t5, bottom = 0, color=red, label='topic 5', edgecolor = 'none')\n",
    "    \n",
    "    plt.ylabel(\"# trips expected\")\n",
    "    plt.xlabel(\"day\")\n",
    "    \n",
    "    \n",
    "    #xmarklabs = []\n",
    "    ax.set_xlim(xlims)\n",
    "    #loc = plticker.MultipleLocator(base=24) # this locator puts ticks at regular intervals\n",
    "    #ax.xaxis.set_major_locator(loc)\n",
    "    \n",
    "    a=ax.get_xticks().tolist()\n",
    "    labels = [df.date[lab] for lab in a]\n",
    "    ax.set_xticklabels(labels)\n",
    "    plt.tick_params(which='major', length=0)\n",
    "    #xmarks = range(xlims[0],xlims[1], 24)\n",
    "    #labels = [df.date[i] for i in xmarks]\n",
    "    #plt.xticks(xmarks, labels, rotation='horizontal')\n",
    "    #ax.set_ylim([0,1])\n",
    "    \n",
    "    ax.legend(loc='upper left')\n",
    "    fig.autofmt_xdate()\n",
    "    plt.show()\n",
    "\n",
    "    \n",
    "plot_trip_by_hour(sf_trips_hour, xlims=[3096, 3096+168])\n",
    "plot_trip_by_hour(nyc_trips_hour,xlims=[144,144+168] )"
   ]
  },
  {
   "cell_type": "code",
   "execution_count": 300,
   "metadata": {
    "collapsed": false
   },
   "outputs": [
    {
     "name": "stdout",
     "output_type": "stream",
     "text": [
      "[[ 0.65364984  0.          0.          0.13103599  0.21025993]\n",
      " [ 0.62669737  0.          0.          0.22035691  0.14635282]\n",
      " [ 0.52328232  0.02513653  0.          0.28726316  0.15961929]\n",
      " ..., \n",
      " [ 0.2         0.2         0.2         0.2         0.2       ]\n",
      " [ 0.2         0.2         0.2         0.2         0.2       ]\n",
      " [ 0.2         0.2         0.2         0.2         0.2       ]]\n"
     ]
    },
    {
     "data": {
      "image/png": "[encoded data removed]",
      "text/plain": [
       "<matplotlib.figure.Figure at 0x1a2250090>"
      ]
     },
     "metadata": {},
     "output_type": "display_data"
    }
   ],
   "source": [
    "#plots topic probabilities by hour. \n",
    "def plot_topics_by_hour(topics, k):\n",
    "    topic_by_hour = np.zeros((len(topics),k))\n",
    "    for i, h in enumerate(topics):\n",
    "        row = [0]*k\n",
    "        for t in range(len(h)):\n",
    "            topic = h[t][0]\n",
    "            prob = h[t][1]\n",
    "            row[topic] = prob\n",
    "        topic_by_hour[i] = row\n",
    "    print topic_by_hour\n",
    "\n",
    "    \n",
    "    red, blue, cyan, orange, green = '#FF5050', '#2166AC','#6CE8E8', '#FFCC66', '#00CC99'\n",
    "\n",
    "    fig = plt.figure(figsize=(10, 6))\n",
    "    ind = range(len(topics))\n",
    "    t1 = topic_by_hour[:,0]\n",
    "    t2 = topic_by_hour[:,1]\n",
    "    t3 = topic_by_hour[:,2]\n",
    "    t4 = topic_by_hour[:,3]\n",
    "    t5 = topic_by_hour[:,4]\n",
    "\n",
    "    ax = plt.subplot(111)\n",
    "    ax.bar(ind, t1, color=red, label='topic 1', edgecolor = 'none')\n",
    "    ax.bar(ind, t2, bottom = t1, color=blue, label='topic 2', edgecolor = 'none')\n",
    "    ax.bar(ind, t3, bottom = t2, color=cyan, label='topic 3', edgecolor = 'none')\n",
    "    ax.bar(ind, t4, bottom = t3,color=orange, label='topic 4', edgecolor = 'none')\n",
    "    ax.bar(ind, t5, bottom = t4,color=green, label='topic 5', edgecolor = 'none')\n",
    "    #plt.xticks([0.5, 1.5, 2.5], ['1st Class', '2nd Class', '3rd Class'], rotation='horizontal')\n",
    "    #plt.ylabel(\"Number\")\n",
    "    #plt.xlabel(\"\")\n",
    "    ax.set_ylim([0,1])\n",
    "    ax.set_xlim([0,48])\n",
    "    ax.legend(loc='upper left')\n",
    "    plt.show()\n",
    "    \n",
    "    \n",
    "def get_topic_probs_by_hour(topics, k):\n",
    "    topic_by_hour = np.zeros((len(topics),k))\n",
    "    for i, h in enumerate(topics):\n",
    "        row = [0]*k\n",
    "        for t in range(len(h)):\n",
    "            topic = h[t][0]\n",
    "            prob = h[t][1]\n",
    "            row[topic] = prob\n",
    "        topic_by_hour[i] = row\n",
    "    return topic_by_hour\n",
    "\n",
    "    \n",
    "plot_topics_by_hour(sf_topics, 5)\n",
    "sf_top_probs = get_topic_probs_by_hour(sf_topics, 5)\n",
    "#nyc_top_probs = get_topic_probs_by_hour(nyc_topics, 5)"
   ]
  },
  {
   "cell_type": "code",
   "execution_count": 257,
   "metadata": {
    "collapsed": false
   },
   "outputs": [
    {
     "name": "stdout",
     "output_type": "stream",
     "text": [
      "[[ 0.]\n",
      " [ 0.]\n",
      " [ 0.]\n",
      " [ 2.]\n",
      " [ 2.]\n",
      " [ 2.]\n",
      " [ 2.]\n",
      " [ 2.]\n",
      " [ 2.]\n",
      " [ 2.]\n",
      " [ 4.]\n",
      " [ 4.]\n",
      " [ 4.]\n",
      " [ 4.]\n",
      " [ 4.]\n",
      " [ 4.]\n",
      " [ 4.]\n",
      " [ 4.]\n",
      " [ 4.]\n",
      " [ 0.]\n",
      " [ 0.]\n",
      " [ 0.]\n",
      " [ 0.]\n",
      " [ 0.]\n",
      " [ 0.]]\n"
     ]
    }
   ],
   "source": [
    "# How did ODs change topic by hour?\n",
    "\n",
    "# for each hour, find the most probable topic. \n",
    "def get_topics_by_hour(topics, k):\n",
    "    tops_by_hour = np.zeros((len(topics),1))\n",
    "    for i, h in enumerate(topics):\n",
    "        prob_list = []\n",
    "        topic_list = []\n",
    "        for t in range(len(h)):\n",
    "            topic = h[t][0]\n",
    "            prob = h[t][1]\n",
    "            prob_list.append(prob)\n",
    "            topic_list.append(topic)\n",
    "            top = topic_list[np.argmax(prob_list)]\n",
    "        tops_by_hour[i] = top\n",
    "    return tops_by_hour\n",
    "    \n",
    "\n",
    "sf_topics_by_hour = get_topics_by_hour(sf_topics, 5)\n",
    "nyc_topics_by_hour = get_topics_by_hour(nyc_topics, 5)\n",
    "\n",
    "print sf_topics_by_hour[:25]"
   ]
  }
 ],
 "metadata": {
  "kernelspec": {
   "display_name": "Python 3",
   "language": "python",
   "name": "python3"
  },
  "language_info": {
   "codemirror_mode": {
    "name": "ipython",
    "version": 3
   },
   "file_extension": ".py",
   "mimetype": "text/x-python",
   "name": "python",
   "nbconvert_exporter": "python",
   "pygments_lexer": "ipython3",
   "version": "3.5.2"
  }
 },
 "nbformat": 4,
 "nbformat_minor": 0
}
